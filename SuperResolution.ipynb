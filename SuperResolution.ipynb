{
  "nbformat": 4,
  "nbformat_minor": 0,
  "metadata": {
    "colab": {
      "provenance": [],
      "machine_shape": "hm",
      "gpuType": "T4",
      "authorship_tag": "ABX9TyM/sH97Zq2Yo1n0Sy6YgOjy",
      "include_colab_link": true
    },
    "kernelspec": {
      "name": "python3",
      "display_name": "Python 3"
    },
    "language_info": {
      "name": "python"
    },
    "accelerator": "GPU"
  },
  "cells": [
    {
      "cell_type": "markdown",
      "metadata": {
        "id": "view-in-github",
        "colab_type": "text"
      },
      "source": [
        "<a href=\"https://colab.research.google.com/github/noohadnan/APS360-SISR/blob/main/SuperResolution.ipynb\" target=\"_parent\"><img src=\"https://colab.research.google.com/assets/colab-badge.svg\" alt=\"Open In Colab\"/></a>"
      ]
    },
    {
      "cell_type": "markdown",
      "source": [
        "Setup repository here"
      ],
      "metadata": {
        "id": "O-spW2ob4oFw"
      }
    },
    {
      "cell_type": "code",
      "source": [
        "!git clone https://github.com/noohadnan/APS360-SISR"
      ],
      "metadata": {
        "id": "bhIG4T_V32fR",
        "colab": {
          "base_uri": "https://localhost:8080/"
        },
        "outputId": "3cfcda6f-71b3-4989-afae-60f4e89045e7"
      },
      "execution_count": 1,
      "outputs": [
        {
          "output_type": "stream",
          "name": "stdout",
          "text": [
            "Cloning into 'APS360-SISR'...\n",
            "remote: Enumerating objects: 767, done.\u001b[K\n",
            "remote: Counting objects: 100% (767/767), done.\u001b[K\n",
            "remote: Compressing objects: 100% (750/750), done.\u001b[K\n",
            "remote: Total 767 (delta 160), reused 59 (delta 15), pack-reused 0 (from 0)\u001b[K\n",
            "Receiving objects: 100% (767/767), 61.27 MiB | 15.44 MiB/s, done.\n",
            "Resolving deltas: 100% (160/160), done.\n"
          ]
        }
      ]
    },
    {
      "cell_type": "markdown",
      "source": [
        "After setting up the repo, we upload and the dataset as a zipfile and then unzip"
      ],
      "metadata": {
        "id": "0TMuAB9d4MSD"
      }
    },
    {
      "cell_type": "code",
      "source": [
        "!gcloud auth login\n",
        "!gcloud config set project your-project-id\n",
        "\n",
        "#gsutil cp gs://sisr-dataset/dataset.zip /content/"
      ],
      "metadata": {
        "colab": {
          "base_uri": "https://localhost:8080/"
        },
        "id": "F8JWX7ak6wIX",
        "outputId": "f89ebd07-8c48-4bdb-8d7c-bbc6c5812be7"
      },
      "execution_count": 2,
      "outputs": [
        {
          "output_type": "stream",
          "name": "stdout",
          "text": [
            "Go to the following link in your browser, and complete the sign-in prompts:\n",
            "\n",
            "    https://accounts.google.com/o/oauth2/auth?response_type=code&client_id=32555940559.apps.googleusercontent.com&redirect_uri=https%3A%2F%2Fsdk.cloud.google.com%2Fauthcode.html&scope=openid+https%3A%2F%2Fwww.googleapis.com%2Fauth%2Fuserinfo.email+https%3A%2F%2Fwww.googleapis.com%2Fauth%2Fcloud-platform+https%3A%2F%2Fwww.googleapis.com%2Fauth%2Fappengine.admin+https%3A%2F%2Fwww.googleapis.com%2Fauth%2Fsqlservice.login+https%3A%2F%2Fwww.googleapis.com%2Fauth%2Fcompute+https%3A%2F%2Fwww.googleapis.com%2Fauth%2Faccounts.reauth&state=mFJM747spMhNXS95YT0i2cRG2ss4nI&prompt=consent&token_usage=remote&access_type=offline&code_challenge=rWZjAYZwe-67oFrPafuJkUluHT7Hwtrh7Q7MLEPh4qg&code_challenge_method=S256\n",
            "\n",
            "Once finished, enter the verification code provided in your browser: 4/0AQSTgQEqjna48I8b1XXS5oZIIwQVlE64WQ_PdIS5pGguD0pRtFofEZgC4FcjiaCVIw0sZg\n",
            "\n",
            "You are now logged in as [nooh.adnan@mail.utoronto.ca].\n",
            "Your current project is [None].  You can change this setting by running:\n",
            "  $ gcloud config set project PROJECT_ID\n",
            "\u001b[1;33mWARNING:\u001b[0m [nooh.adnan@mail.utoronto.ca] does not have permission to access projects instance [your-project-id] (or it may not exist): The caller does not have permission. This command is authenticated as nooh.adnan@mail.utoronto.ca which is the active account specified by the [core/account] property\n",
            "Are you sure you wish to set property [core/project] to your-project-id?\n",
            "\n",
            "Do you want to continue (Y/n)?  Y\n",
            "\n",
            "Updated property [core/project].\n"
          ]
        }
      ]
    },
    {
      "cell_type": "code",
      "execution_count": 3,
      "metadata": {
        "id": "DMx56RHhq8Lm"
      },
      "outputs": [],
      "source": [
        "import zipfile\n",
        "import os\n",
        "\n",
        "filename = \"dataset.zip\"  # replace with your uploaded file name\n",
        "\n",
        "with zipfile.ZipFile(filename, 'r') as zip_ref:\n",
        "    zip_ref.extractall(\"/content/extracted_folder\")\n"
      ]
    },
    {
      "cell_type": "code",
      "source": [
        "!python /content/APS360-SISR/Model/SISR.py"
      ],
      "metadata": {
        "id": "XfTSgf4Y317E",
        "colab": {
          "base_uri": "https://localhost:8080/"
        },
        "outputId": "1c886bfd-7479-4f04-8af3-fcfa7803ddf0"
      },
      "execution_count": 4,
      "outputs": [
        {
          "output_type": "stream",
          "name": "stdout",
          "text": [
            "2025-03-29 00:13:25.286137: E external/local_xla/xla/stream_executor/cuda/cuda_fft.cc:477] Unable to register cuFFT factory: Attempting to register factory for plugin cuFFT when one has already been registered\n",
            "WARNING: All log messages before absl::InitializeLog() is called are written to STDERR\n",
            "E0000 00:00:1743207205.541713   19024 cuda_dnn.cc:8310] Unable to register cuDNN factory: Attempting to register factory for plugin cuDNN when one has already been registered\n",
            "E0000 00:00:1743207205.611433   19024 cuda_blas.cc:1418] Unable to register cuBLAS factory: Attempting to register factory for plugin cuBLAS when one has already been registered\n",
            "2025-03-29 00:13:26.165705: I tensorflow/core/platform/cpu_feature_guard.cc:210] This TensorFlow binary is optimized to use available CPU instructions in performance-critical operations.\n",
            "To enable the following instructions: AVX2 AVX512F FMA, in other operations, rebuild TensorFlow with the appropriate compiler flags.\n",
            "Traceback (most recent call last):\n",
            "  File \"/content/APS360-SISR/Model/SISR.py\", line 285, in <module>\n",
            "    train_dataset.generateDatapairs()\n",
            "  File \"/content/APS360-SISR/Model/SISR.py\", line 52, in generateDatapairs\n",
            "    for fileNum in range(len(os.listdir(origPath))):\n",
            "                             ^^^^^^^^^^^^^^^^^^^^\n",
            "FileNotFoundError: [Errno 2] No such file or directory: 'Dataset/train/original_images\\\\'\n"
          ]
        }
      ]
    }
  ]
}