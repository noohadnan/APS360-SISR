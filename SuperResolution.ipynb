{
  "nbformat": 4,
  "nbformat_minor": 0,
  "metadata": {
    "colab": {
      "provenance": [],
      "authorship_tag": "ABX9TyPz4KVQdTE4PnB1r9RlRq3V",
      "include_colab_link": true
    },
    "kernelspec": {
      "name": "python3",
      "display_name": "Python 3"
    },
    "language_info": {
      "name": "python"
    }
  },
  "cells": [
    {
      "cell_type": "markdown",
      "metadata": {
        "id": "view-in-github",
        "colab_type": "text"
      },
      "source": [
        "<a href=\"https://colab.research.google.com/github/noohadnan/APS360-SISR/blob/main/SuperResolution.ipynb\" target=\"_parent\"><img src=\"https://colab.research.google.com/assets/colab-badge.svg\" alt=\"Open In Colab\"/></a>"
      ]
    },
    {
      "cell_type": "markdown",
      "source": [
        "Setup repository here"
      ],
      "metadata": {
        "id": "O-spW2ob4oFw"
      }
    },
    {
      "cell_type": "code",
      "source": [
        "!git clone https://github.com/noohadnan/APS360-SISR"
      ],
      "metadata": {
        "id": "bhIG4T_V32fR"
      },
      "execution_count": null,
      "outputs": []
    },
    {
      "cell_type": "markdown",
      "source": [
        "After setting up the repo, we upload and the dataset as a zipfile and then unzip"
      ],
      "metadata": {
        "id": "0TMuAB9d4MSD"
      }
    },
    {
      "cell_type": "code",
      "source": [
        "from google.colab import files\n",
        "uploaded = files.upload()"
      ],
      "metadata": {
        "id": "XfTSgf4Y317E"
      },
      "execution_count": null,
      "outputs": []
    },
    {
      "cell_type": "code",
      "execution_count": null,
      "metadata": {
        "id": "DMx56RHhq8Lm"
      },
      "outputs": [],
      "source": [
        "import zipfile\n",
        "import os\n",
        "\n",
        "filename = \"yourfile.zip\"  # replace with your uploaded file name\n",
        "\n",
        "with zipfile.ZipFile(filename, 'r') as zip_ref:\n",
        "    zip_ref.extractall(\"/content/extracted_folder\")\n"
      ]
    }
  ]
}