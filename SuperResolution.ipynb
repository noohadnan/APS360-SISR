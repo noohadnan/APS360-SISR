{
  "nbformat": 4,
  "nbformat_minor": 0,
  "metadata": {
    "colab": {
      "provenance": [],
      "machine_shape": "hm",
      "gpuType": "L4",
      "authorship_tag": "ABX9TyM/sH97Zq2Yo1n0Sy6YgOjy",
      "include_colab_link": true
    },
    "kernelspec": {
      "name": "python3",
      "display_name": "Python 3"
    },
    "language_info": {
      "name": "python"
    },
    "accelerator": "GPU"
  },
  "cells": [
    {
      "cell_type": "markdown",
      "metadata": {
        "id": "view-in-github",
        "colab_type": "text"
      },
      "source": [
        "<a href=\"https://colab.research.google.com/github/noohadnan/APS360-SISR/blob/main/SuperResolution.ipynb\" target=\"_parent\"><img src=\"https://colab.research.google.com/assets/colab-badge.svg\" alt=\"Open In Colab\"/></a>"
      ]
    },
    {
      "cell_type": "markdown",
      "source": [
        "Setup repository here"
      ],
      "metadata": {
        "id": "O-spW2ob4oFw"
      }
    },
    {
      "cell_type": "code",
      "source": [
        "!git clone https://github.com/noohadnan/APS360-SISR"
      ],
      "metadata": {
        "id": "bhIG4T_V32fR",
        "colab": {
          "base_uri": "https://localhost:8080/"
        },
        "outputId": "91596ca3-9d55-4481-87fe-f4d26f90a913"
      },
      "execution_count": 3,
      "outputs": [
        {
          "output_type": "stream",
          "name": "stdout",
          "text": [
            "Cloning into 'APS360-SISR'...\n",
            "remote: Enumerating objects: 757, done.\u001b[K\n",
            "remote: Counting objects: 100% (757/757), done.\u001b[K\n",
            "remote: Compressing objects: 100% (741/741), done.\u001b[K\n",
            "remote: Total 757 (delta 153), reused 56 (delta 14), pack-reused 0 (from 0)\u001b[K\n",
            "Receiving objects: 100% (757/757), 61.27 MiB | 15.13 MiB/s, done.\n",
            "Resolving deltas: 100% (153/153), done.\n"
          ]
        }
      ]
    },
    {
      "cell_type": "markdown",
      "source": [
        "After setting up the repo, we upload and the dataset as a zipfile and then unzip"
      ],
      "metadata": {
        "id": "0TMuAB9d4MSD"
      }
    },
    {
      "cell_type": "code",
      "source": [
        "!gcloud auth login\n",
        "!gcloud config set project your-project-id\n",
        "\n",
        "#gsutil cp gs://sisr-dataset/dataset.zip /content/"
      ],
      "metadata": {
        "colab": {
          "base_uri": "https://localhost:8080/"
        },
        "id": "F8JWX7ak6wIX",
        "outputId": "088c015d-a16b-4b6f-ffae-b3732db5798c"
      },
      "execution_count": 2,
      "outputs": [
        {
          "output_type": "stream",
          "name": "stdout",
          "text": [
            "Go to the following link in your browser, and complete the sign-in prompts:\n",
            "\n",
            "    https://accounts.google.com/o/oauth2/auth?response_type=code&client_id=32555940559.apps.googleusercontent.com&redirect_uri=https%3A%2F%2Fsdk.cloud.google.com%2Fauthcode.html&scope=openid+https%3A%2F%2Fwww.googleapis.com%2Fauth%2Fuserinfo.email+https%3A%2F%2Fwww.googleapis.com%2Fauth%2Fcloud-platform+https%3A%2F%2Fwww.googleapis.com%2Fauth%2Fappengine.admin+https%3A%2F%2Fwww.googleapis.com%2Fauth%2Fsqlservice.login+https%3A%2F%2Fwww.googleapis.com%2Fauth%2Fcompute+https%3A%2F%2Fwww.googleapis.com%2Fauth%2Faccounts.reauth&state=qgMeVvE9xTq4fEiA2WPW92GZwpjz53&prompt=consent&token_usage=remote&access_type=offline&code_challenge=jztwvv88qrVP58ZKT1V1nH2nR8sfgNH476x5lMolyGQ&code_challenge_method=S256\n",
            "\n",
            "Once finished, enter the verification code provided in your browser: 4/0AQSTgQFb-EqKOJNvPLIO4vWtfxUrc3ecMeJ3rsGZFqwPBAdLFQHVsByDW6-uyfaOxPgGJw\n",
            "\n",
            "You are now logged in as [nooh.adnan@mail.utoronto.ca].\n",
            "Your current project is [your-project-id].  You can change this setting by running:\n",
            "  $ gcloud config set project PROJECT_ID\n",
            "\u001b[1;33mWARNING:\u001b[0m [nooh.adnan@mail.utoronto.ca] does not have permission to access projects instance [your-project-id] (or it may not exist): The caller does not have permission. This command is authenticated as nooh.adnan@mail.utoronto.ca which is the active account specified by the [core/account] property\n",
            "Are you sure you wish to set property [core/project] to your-project-id?\n",
            "\n",
            "Do you want to continue (Y/n)?  Y\n",
            "\n",
            "Updated property [core/project].\n"
          ]
        }
      ]
    },
    {
      "cell_type": "code",
      "execution_count": 4,
      "metadata": {
        "id": "DMx56RHhq8Lm"
      },
      "outputs": [],
      "source": [
        "import zipfile\n",
        "import os\n",
        "\n",
        "filename = \"dataset.zip\"  # replace with your uploaded file name\n",
        "\n",
        "with zipfile.ZipFile(filename, 'r') as zip_ref:\n",
        "    zip_ref.extractall(\"/content/extracted_folder\")\n"
      ]
    },
    {
      "cell_type": "code",
      "source": [
        "!python /content/APS360-SISR/Model/SISR.py"
      ],
      "metadata": {
        "id": "XfTSgf4Y317E",
        "colab": {
          "base_uri": "https://localhost:8080/"
        },
        "outputId": "cbdee0d6-345d-490b-f42b-f98408987ce1"
      },
      "execution_count": 12,
      "outputs": [
        {
          "output_type": "stream",
          "name": "stdout",
          "text": [
            "2025-03-20 20:06:25.873854: I tensorflow/core/util/port.cc:153] oneDNN custom operations are on. You may see slightly different numerical results due to floating-point round-off errors from different computation orders. To turn them off, set the environment variable `TF_ENABLE_ONEDNN_OPTS=0`.\n",
            "2025-03-20 20:06:25.891993: E external/local_xla/xla/stream_executor/cuda/cuda_fft.cc:477] Unable to register cuFFT factory: Attempting to register factory for plugin cuFFT when one has already been registered\n",
            "WARNING: All log messages before absl::InitializeLog() is called are written to STDERR\n",
            "E0000 00:00:1742501185.914673   18341 cuda_dnn.cc:8310] Unable to register cuDNN factory: Attempting to register factory for plugin cuDNN when one has already been registered\n",
            "E0000 00:00:1742501185.921445   18341 cuda_blas.cc:1418] Unable to register cuBLAS factory: Attempting to register factory for plugin cuBLAS when one has already been registered\n",
            "2025-03-20 20:06:25.943952: I tensorflow/core/platform/cpu_feature_guard.cc:210] This TensorFlow binary is optimized to use available CPU instructions in performance-critical operations.\n",
            "To enable the following instructions: AVX2 AVX512F AVX512_VNNI FMA, in other operations, rebuild TensorFlow with the appropriate compiler flags.\n",
            "Using cuda device\n",
            "CUDA Enabled\n",
            "\n",
            "Traceback (most recent call last):\n",
            "  File \"/content/APS360-SISR/Model/SISR.py\", line 304, in <module>\n",
            "    trainNet(\n",
            "  File \"/content/APS360-SISR/Model/SISR.py\", line 206, in trainNet\n",
            "    runningLoss += loss.item()\n",
            "                   ^^^^^^^^^^^\n",
            "KeyboardInterrupt\n"
          ]
        }
      ]
    }
  ]
}